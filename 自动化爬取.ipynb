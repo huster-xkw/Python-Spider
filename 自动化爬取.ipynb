{
 "cells": [
  {
   "cell_type": "code",
   "execution_count": 2,
   "metadata": {},
   "outputs": [],
   "source": [
    "from selenium import webdriver\n",
    "from selenium.webdriver.common.by import By\n",
    "from selenium.webdriver.support import expected_conditions as EC\n",
    "url = 'http://www.dxy.cn/bbs/thread/626626#626626'\n",
    "driver = webdriver.Chrome('F:\\driver\\chromedriver.exe')\n",
    "driver.get(url=url)\n",
    "driver.find_element(By.LINK_TEXT, \"登录\").click()\n",
    "driver.find_element(By.LINK_TEXT, \"返回电脑登录\").click()\n",
    "driver.find_element(By.ID, \"username\").click()\n",
    "driver.find_element(By.ID, \"username\").send_keys('2562599523@qq.com')\n",
    "driver.find_element(By.NAME, \"password\").click()\n",
    "driver.find_element(By.NAME, \"password\").send_keys(\"ILOVExkw1314\")\n",
    "driver.find_element(By.NAME, \"keepOnlineType\").click()\n",
    "driver.find_element(By.CSS_SELECTOR, \"div.form__button\").click()\n",
    "try:\n",
    "    WebDriverWait(driver, 10).until(\n",
    "        EC.element_to_be_clickable((By.XPATH, \"//a[@class='user-name']\")))\n",
    "except:\n",
    "    driver.execute_script(\n",
    "        'window.stop ? window.stop() : document.execCommand(\"Stop\");')\n",
    "a = driver.find_elements_by_xpath('//div[@class=\"auth\"]/a')\n",
    "b = driver.find_elements_by_xpath('//div[@class=\"user-level-area\"]')\n",
    "a = [aa.text for aa in a]\n",
    "b = [bb.text for bb in b]\n",
    "try:\n",
    "    driver.find_element(By.LINK_TEXT, \"退出\").click()\n",
    "except:\n",
    "    driver.execute_script(\n",
    "        'window.stop ? window.stop() : document.execCommand(\"Stop\");')\n",
    "driver.close()\n"
   ]
  }
 ],
 "metadata": {
  "kernelspec": {
   "display_name": "Python 3",
   "language": "python",
   "name": "python3"
  },
  "language_info": {
   "codemirror_mode": {
    "name": "ipython",
    "version": 3
   },
   "file_extension": ".py",
   "mimetype": "text/x-python",
   "name": "python",
   "nbconvert_exporter": "python",
   "pygments_lexer": "ipython3",
   "version": "3.7.6"
  }
 },
 "nbformat": 4,
 "nbformat_minor": 2
}
